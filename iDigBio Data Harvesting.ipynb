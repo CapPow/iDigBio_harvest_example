{
 "cells": [
  {
   "cell_type": "markdown",
   "metadata": {},
   "source": [
    "Example code for using the iDigBio API to harvest specimen images"
   ]
  },
  {
   "cell_type": "code",
   "execution_count": 1,
   "metadata": {},
   "outputs": [],
   "source": [
    "# imports for record identification\n",
    "import pandas as pd\n",
    "import idigbio\n",
    "\n",
    "# imports for media retrieval\n",
    "import requests\n",
    "import shutil\n",
    "import os\n",
    "import time\n",
    "\n",
    "# Imports for cleaning the retrieved media\n",
    "from PIL import Image\n",
    "from PIL import UnidentifiedImageError\n",
    "from glob import glob"
   ]
  },
  {
   "cell_type": "code",
   "execution_count": 2,
   "metadata": {},
   "outputs": [],
   "source": [
    "# start by selecting the idigbio's pandas api\n",
    "api = idigbio.pandas()\n",
    "\n",
    "# iDigBio's Python API documentation:\n",
    "#      https://github.com/iDigBio/idigbio-python-client\n",
    "# iDigBio's General API documentation:\n",
    "#      https://github.com/idigbio/idigbio-search-api/wiki#records"
   ]
  },
  {
   "cell_type": "markdown",
   "metadata": {},
   "source": [
    "#### iDigBio has a pretty complicated query format.\n",
    "see: https://github.com/iDigBio/idigbio-search-api/wiki/Query-Format\n",
    "\n",
    "For example can query for data's existance using nested dict after a field name \n",
    "\n",
    ">  \"scientificname\": {\n",
    "    \"type\": \"exists\"\n",
    "      }\n",
    "\n",
    "Or query nested data within records by delineating hierarchy with a period.\n",
    "For example, the 'data' col contains nested record data, such as reproductive condition so one could query for it's existance\n",
    "\n",
    "> data.dwc:reproductiveCondition : {\n",
    "        \"type\":\"exists\"}\n",
    "\n",
    "The 'flags' col indicates data quality issues. For example, any changes which were preformed upon ingestion such as a change of specificepithet in order to align with GBIF taxonomy. Flags are provided as a list of terms. Since the default field query is a partial match you can query it by just checking for your flag.\n",
    "\n",
    "Flags documentation: https://github.com/iDigBio/idigbio-search-api/wiki/Data-Quality-Flags\n",
    "\n",
    "> \"flags\":\"dwc_specificepithet_replaced\""
   ]
  },
  {
   "cell_type": "markdown",
   "metadata": {},
   "source": [
    "Begin by setting a few variables"
   ]
  },
  {
   "cell_type": "code",
   "execution_count": 10,
   "metadata": {},
   "outputs": [],
   "source": [
    "# set variables for the query\n",
    "sciName = 'Tsuga canadensis'\n",
    "#sciName = 'Iris setosa'\n",
    "basisOfRecord = 'PreservedSpecimen' # PreservedSpecimen indicates a vouchered record\n",
    "\n",
    "# for testing purposes restrict query to 5 results\n",
    "limit = 7"
   ]
  },
  {
   "cell_type": "markdown",
   "metadata": {},
   "source": [
    "Build and submit the query\n",
    "\n",
    "*Note: It is probably necessary to modify this query somewhat depending on the usecase."
   ]
  },
  {
   "cell_type": "code",
   "execution_count": 15,
   "metadata": {},
   "outputs": [
    {
     "data": {
      "text/plain": [
       "Index(['startdayofyear', 'continent', 'country', 'collectioncode', 'dqs',\n",
       "       'countrycode', 'datecollected', 'county', 'flags', 'recordset',\n",
       "       'hasImage', 'indexData', 'hasMedia', 'taxonid', 'catalognumber',\n",
       "       'collector', 'basisofrecord', 'datemodified', 'taxonrank', 'class',\n",
       "       'order', 'highertaxon', 'mediarecords', 'locality', 'geopoint',\n",
       "       'specificepithet', 'scientificname', 'occurrenceid', 'stateprovince',\n",
       "       'recordnumber', 'kingdom', 'taxonomicstatus', 'eventdate',\n",
       "       'canonicalname', 'phylum', 'genus', 'minelevation',\n",
       "       'coordinateuncertainty', 'datasetid', 'etag', 'institutioncode',\n",
       "       'family', 'collectionid', 'recordids', 'verbatimeventdate'],\n",
       "      dtype='object')"
      ]
     },
     "metadata": {},
     "output_type": "display_data"
    },
    {
     "data": {
      "text/plain": [
       "(7, 45)"
      ]
     },
     "metadata": {},
     "output_type": "display_data"
    }
   ],
   "source": [
    "# define a dictionary with the query's \"key word arguments\"\n",
    "my_query = {'scientificname':sciName,\n",
    "            'hasImage':True,\n",
    "            'basisofrecord':basisOfRecord,\n",
    "            'indexData.dwc:reproductiveCondition':{'type':'exists'}, # could be useful but only here as an example\n",
    "            'flags':'dwc_parentnameusageid_added' # only really here as an example\n",
    "           }\n",
    "\n",
    "\n",
    "# call iDigbio's api, using the query we built. The result is a dataframe.\n",
    "df = api.search_records(rq=my_query, limit=limit)\n",
    "\n",
    "# spotcheck what was returned\n",
    "# examine the the columns available\n",
    "display(df.columns)\n",
    "# examine the total quantity of results\n",
    "display(df.shape)"
   ]
  },
  {
   "cell_type": "markdown",
   "metadata": {},
   "source": [
    "# Expand nested data\n",
    "\n",
    "This example requested data containing \"reproductiveCondition\" information nested the indexData col. It will be easier to work with if that nested data is expanded to a top level column"
   ]
  },
  {
   "cell_type": "code",
   "execution_count": 16,
   "metadata": {},
   "outputs": [
    {
     "data": {
      "text/plain": [
       "uuid\n",
       "abca404a-ce55-4c65-b5a8-442f2a260a1d               seed cone\n",
       "258210cd-51f8-40f7-b88b-d7c0ce5eb417    Female cones present\n",
       "5def2622-4165-4ff3-a1d8-110729e07740     Female cone present\n",
       "2b525612-0a31-43bf-814b-7365f915d467                fruiting\n",
       "Name: reproductiveCondition, dtype: object"
      ]
     },
     "execution_count": 16,
     "metadata": {},
     "output_type": "execute_result"
    }
   ],
   "source": [
    "# quick helper function will keep this code easier to read\n",
    "def expand_reproductiveCondition(indexData):\n",
    "    reproductiveCondition = indexData.get('dwc:reproductiveCondition', \"\")\n",
    "    return reproductiveCondition\n",
    "\n",
    "# apply the expansion function to the parent col (i.e., 'indexData')\n",
    "df['reproductiveCondition'] = df['indexData'].apply(expand_reproductiveCondition)\n",
    "# check out the results (could be fun)\n",
    "df['reproductiveCondition'].sample(4)"
   ]
  },
  {
   "cell_type": "markdown",
   "metadata": {},
   "source": [
    "#### Retrieve media from query reqsults\n",
    "\n",
    "Modified from: https://github.com/iDigBio/idigbio-python-client/blob/master/examples/fetch_media/fetch_media.py"
   ]
  },
  {
   "cell_type": "code",
   "execution_count": 24,
   "metadata": {},
   "outputs": [],
   "source": [
    "\n",
    "def get_media_with_naming (output_dir, media_url, uuid, SIZE):\n",
    "    \"\"\"\n",
    "Download a media file to a directory and name it based on the input parameters.\n",
    " 'output_dir' controls where the download is placed.\n",
    " 'media_url' is the url / link to the media that will be downloaded.\n",
    " 'uuid' is used to uniquely identify the output filename.\n",
    " 'SIZE' is the class of image derivative, useful in the output filename.\n",
    "\"\"\"\n",
    "    # Output filenames will be of the form: {mediarecord_uuid}_{SIZE}.jpg\n",
    "    local_filepath = os.path.join(output_dir,  uuid + '_' + SIZE + '.jpg')\n",
    "    try:\n",
    "        with requests.get(media_url, stream=True) as r:\n",
    "            r.raise_for_status()\n",
    "            with open(local_filepath, 'wb') as f:\n",
    "                for chunk in r.iter_content(chunk_size=1024):\n",
    "                    f.write(chunk)\n",
    "            # be sure file is done downloading before moving on\n",
    "            cur_fs = 0\n",
    "            while cur_fs != os.path.getsize(local_filepath):\n",
    "                time.sleep(0.2)\n",
    "                cur_fs = os.path.getsize(local_filepath)\n",
    "                time.sleep(0.5) # impose longer wait timers to avoid IP Bans\n",
    "    except (requests.exceptions.HTTPError, requests.exceptions.ConnectionError) as e:\n",
    "        if \"fullsize\" in media_url:\n",
    "            media_url = media_url.split(\"?size=fullsize\")[0]\n",
    "            return get_media_with_naming(output_dir, media_url, uuid, \"na\")\n",
    "        else:\n",
    "            print('*** HTTP ERROR: {0}'.format(e))\n",
    "        return False\n",
    "\n",
    "    # if a success is apparent impose a sleep timer to avoid an ip ban\n",
    "\n",
    "    return True\n",
    "\n",
    "def retrieve_media(mediarecords, output_directory='./output', SIZE='fullsize'):\n",
    "    \"\"\" when be called on the 'mediarecords' column, retrieves every media file \"\"\"\n",
    "    # SIZES = [\"thumbnail\", \"webview\", \"fullsize\"]\n",
    "    print(mediarecords)\n",
    "    for media_uuid in mediarecords:\n",
    "        # construct media URL\n",
    "        media_url = 'https://api.idigbio.org/v2/media/' + media_uuid + '?size=' + SIZE\n",
    "        # The retrieval function returns bool based on success\n",
    "        # could modify this to store report somewhere... for now just print success / fail\n",
    "        if get_media_with_naming(output_directory, media_url, media_uuid, SIZE):\n",
    "            print (\"Downloaded: '{0}'\".format(media_url))\n",
    "        else:\n",
    "            print(\"Failed to retrieve: '{0}'\".format(media_url))\n",
    "            print(media_uuid)"
   ]
  },
  {
   "cell_type": "markdown",
   "metadata": {},
   "source": [
    "#### Extract the media from the identified records "
   ]
  },
  {
   "cell_type": "code",
   "execution_count": 25,
   "metadata": {},
   "outputs": [
    {
     "name": "stdout",
     "output_type": "stream",
     "text": [
      "['8c3d5920-b675-4c32-987a-4ab7dabe1658']\n",
      "Downloaded: 'https://api.idigbio.org/v2/media/8c3d5920-b675-4c32-987a-4ab7dabe1658?size=fullsize'\n",
      "['431f2252-b713-4a6b-89c3-a16456ccded8']\n",
      "Downloaded: 'https://api.idigbio.org/v2/media/431f2252-b713-4a6b-89c3-a16456ccded8?size=fullsize'\n",
      "['f03e708a-0485-4eb7-9e67-4bc7fca62392']\n",
      "Downloaded: 'https://api.idigbio.org/v2/media/f03e708a-0485-4eb7-9e67-4bc7fca62392?size=fullsize'\n",
      "['9c38451a-adfd-4165-8a69-4e69a9e2c817']\n",
      "Downloaded: 'https://api.idigbio.org/v2/media/9c38451a-adfd-4165-8a69-4e69a9e2c817?size=fullsize'\n",
      "['d286d4ff-82a3-431f-96c0-bdc37777f4df']\n",
      "Downloaded: 'https://api.idigbio.org/v2/media/d286d4ff-82a3-431f-96c0-bdc37777f4df?size=fullsize'\n",
      "['3bf31e60-88f8-4be1-b944-6c9d6d380d80']\n",
      "Downloaded: 'https://api.idigbio.org/v2/media/3bf31e60-88f8-4be1-b944-6c9d6d380d80?size=fullsize'\n",
      "['a005b1a7-b8bc-4f54-b5ca-6b792da288ea']\n",
      "Downloaded: 'https://api.idigbio.org/v2/media/a005b1a7-b8bc-4f54-b5ca-6b792da288ea?size=fullsize'\n"
     ]
    },
    {
     "data": {
      "text/plain": [
       "uuid\n",
       "ca458b5b-98b0-438a-a976-5820f60bb8f4    None\n",
       "258210cd-51f8-40f7-b88b-d7c0ce5eb417    None\n",
       "3c138af5-01fd-428a-a994-fbe15d49cef2    None\n",
       "2d3d3e64-b24c-44a9-8d4a-c5cdb8d5e440    None\n",
       "2b525612-0a31-43bf-814b-7365f915d467    None\n",
       "5def2622-4165-4ff3-a1d8-110729e07740    None\n",
       "abca404a-ce55-4c65-b5a8-442f2a260a1d    None\n",
       "Name: mediarecords, dtype: object"
      ]
     },
     "execution_count": 25,
     "metadata": {},
     "output_type": "execute_result"
    }
   ],
   "source": [
    "df['mediarecords'].apply(retrieve_media)"
   ]
  },
  {
   "cell_type": "markdown",
   "metadata": {},
   "source": [
    "#### Store record date\n",
    "Just in case it is useful later"
   ]
  },
  {
   "cell_type": "code",
   "execution_count": 5,
   "metadata": {},
   "outputs": [],
   "source": [
    "df.to_csv('output.csv')"
   ]
  },
  {
   "cell_type": "markdown",
   "metadata": {},
   "source": [
    "#### Cleanup the output directory\n",
    "__Note:__ the output_directory parameter should align with the output_directory used here\n",
    "\n",
    "__Note:__ this does not remove records from the record data if all the associated images are removed."
   ]
  },
  {
   "cell_type": "code",
   "execution_count": 26,
   "metadata": {},
   "outputs": [],
   "source": [
    "# modify to alter the minimum acceptable px size of image's largest dimension \n",
    "# for reference, \"full size\" is typically ~5,760\n",
    "image_height_thres = 3000\n",
    "\n",
    "output_directory = './output'\n",
    "output_files = glob(f\"{output_directory}/*\")\n",
    "\n",
    "def remove_file(fp):\n",
    "    \"\"\"given a file path, attempts to remove the file\"\"\"\n",
    "    if os.path.isfile(fp):\n",
    "        os.remove(fp)\n",
    "\n",
    "# iterate over all identified files in the glob\n",
    "# remove those not meeting herb image linke conditions\n",
    "for fn in output_files:\n",
    "    try:\n",
    "        im = Image.open(fn)\n",
    "        w, h = im.size\n",
    "        # assign height to the larger variable (robust to rotated images)\n",
    "        if w > h:\n",
    "            w, h = h, w\n",
    "        # establish 2 disqualifying conditions\n",
    "        # make sure the height meets a pixel threshold\n",
    "        height_condition = h < image_height_thres\n",
    "        # verify the aspect ratio is in the ball park of expected values\n",
    "        aspect_condition = not( 1.2 < (h/w) < 1.95)\n",
    "        # if the image in question meets either of those conditions, remove it from the drive.\n",
    "        if height_condition or aspect_condition:\n",
    "            remove_file(fn)\n",
    "    # This exception means the file is probably corrupted or incomplete\n",
    "    except UnidentifiedImageError:\n",
    "        remove_file(fn)"
   ]
  },
  {
   "cell_type": "code",
   "execution_count": null,
   "metadata": {},
   "outputs": [],
   "source": []
  }
 ],
 "metadata": {
  "kernelspec": {
   "display_name": "Python 3",
   "language": "python",
   "name": "python3"
  },
  "language_info": {
   "codemirror_mode": {
    "name": "ipython",
    "version": 3
   },
   "file_extension": ".py",
   "mimetype": "text/x-python",
   "name": "python",
   "nbconvert_exporter": "python",
   "pygments_lexer": "ipython3",
   "version": "3.8.5"
  }
 },
 "nbformat": 4,
 "nbformat_minor": 4
}
