{
 "cells": [
  {
   "cell_type": "markdown",
   "metadata": {},
   "source": [
    "Example code for using the iDigBio API to harvest specimen images"
   ]
  },
  {
   "cell_type": "code",
   "execution_count": 1,
   "metadata": {},
   "outputs": [],
   "source": [
    "# imports for record identification\n",
    "import pandas as pd\n",
    "import idigbio\n",
    "\n",
    "# imports for media retrieval\n",
    "import requests\n",
    "import shutil\n",
    "import os\n",
    "import time\n",
    "\n",
    "# Imports for cleaning the retrieved media\n",
    "from PIL import Image\n",
    "from PIL import UnidentifiedImageError\n",
    "from glob import glob"
   ]
  },
  {
   "cell_type": "code",
   "execution_count": 2,
   "metadata": {},
   "outputs": [],
   "source": [
    "# start by selecting the idigbio's pandas api\n",
    "api = idigbio.pandas()\n",
    "\n",
    "# iDigBio's Python API documentation:\n",
    "#      https://github.com/iDigBio/idigbio-python-client\n",
    "# iDigBio's General API documentation:\n",
    "#      https://github.com/idigbio/idigbio-search-api/wiki#records"
   ]
  },
  {
   "cell_type": "markdown",
   "metadata": {},
   "source": [
    "#### iDigBio has a pretty complicated query format.\n",
    "see: https://github.com/iDigBio/idigbio-search-api/wiki/Query-Format\n",
    "\n",
    "For example can query for data's existance using nested dict after a field name \n",
    "\n",
    ">  \"scientificname\": {\n",
    "    \"type\": \"exists\"\n",
    "      }\n",
    "\n",
    "Or query nested data within records by delineating hierarchy with a period.\n",
    "For example, the 'data' col contains nested record data, such as reproductive condition so one could query for it's existance\n",
    "\n",
    "> data.dwc:reproductiveCondition : {\n",
    "        \"type\":\"exists\"}\n",
    "\n",
    "The 'flags' col indicates data quality issues. For example, any changes which were preformed upon ingestion such as a change of specificepithet in order to align with GBIF taxonomy. Flags are provided as a list of terms. Since the default field query is a partial match you can query it by just checking for your flag.\n",
    "\n",
    "Flags documentation: https://github.com/iDigBio/idigbio-search-api/wiki/Data-Quality-Flags\n",
    "\n",
    "> \"flags\":\"dwc_specificepithet_replaced\""
   ]
  },
  {
   "cell_type": "markdown",
   "metadata": {},
   "source": [
    "Begin by setting a few variables"
   ]
  },
  {
   "cell_type": "code",
   "execution_count": 11,
   "metadata": {},
   "outputs": [],
   "source": [
    "# set variables for the query\n",
    "#sciName = 'Tsuga canadensis'\n",
    "sciName = 'Iris setosa'\n",
    "basisOfRecord = 'PreservedSpecimen' # PreservedSpecimen indicates a vouchered record\n",
    "\n",
    "# for testing purposes restrict query to 5 results\n",
    "limit = 7"
   ]
  },
  {
   "cell_type": "markdown",
   "metadata": {},
   "source": [
    "Build and submit the query\n",
    "\n",
    "*Note: It is probably necessary to modify this query somewhat depending on the usecase."
   ]
  },
  {
   "cell_type": "code",
   "execution_count": 12,
   "metadata": {},
   "outputs": [
    {
     "data": {
      "text/plain": [
       "Index(['startdayofyear', 'continent', 'verbatimeventdate', 'country',\n",
       "       'collectioncode', 'dqs', 'countrycode', 'datecollected', 'flags',\n",
       "       'recordset', 'hasImage', 'indexData', 'hasMedia', 'taxonid',\n",
       "       'catalognumber', 'collector', 'basisofrecord', 'datemodified',\n",
       "       'taxonrank', 'class', 'order', 'mediarecords', 'locality',\n",
       "       'specificepithet', 'scientificname', 'occurrenceid', 'stateprovince',\n",
       "       'recordnumber', 'kingdom', 'taxonomicstatus', 'eventdate',\n",
       "       'canonicalname', 'phylum', 'genus', 'minelevation', 'datasetid', 'etag',\n",
       "       'institutioncode', 'family', 'collectionid', 'recordids', 'highertaxon',\n",
       "       'geopoint', 'coordinateuncertainty', 'county'],\n",
       "      dtype='object')"
      ]
     },
     "metadata": {},
     "output_type": "display_data"
    },
    {
     "data": {
      "text/plain": [
       "(7, 45)"
      ]
     },
     "metadata": {},
     "output_type": "display_data"
    }
   ],
   "source": [
    "# define a dictionary with the query's \"key word arguments\"\n",
    "my_query = {'scientificname':sciName,\n",
    "            'hasImage':True,\n",
    "            'basisofrecord':basisOfRecord,\n",
    "            'indexData.dwc:reproductiveCondition':{'type':'exists'}, # could be useful but only here as an example\n",
    "            'flags':'dwc_parentnameusageid_added' # only really here as an example\n",
    "           }\n",
    "\n",
    "# call iDigbio's api, using the query we built. The result is a dataframe.\n",
    "df = api.search_records(rq=my_query, limit=limit)\n",
    "\n",
    "# spotcheck what was returned\n",
    "# examine the the columns available\n",
    "display(df.columns)\n",
    "# examine the total quantity of results\n",
    "display(df.shape)"
   ]
  },
  {
   "cell_type": "markdown",
   "metadata": {},
   "source": [
    "# Expand nested data\n",
    "\n",
    "This example requested data containing \"reproductiveCondition\" information nested the indexData col. It will be easier to work with if that nested data is expanded to a top level column"
   ]
  },
  {
   "cell_type": "code",
   "execution_count": 13,
   "metadata": {},
   "outputs": [
    {
     "data": {
      "text/plain": [
       "uuid\n",
       "b17ffd30-6207-4a13-9e96-b22fbf97bd51    flowers\n",
       "54fb847b-3be3-497a-b523-739071113c2e    flowers\n",
       "734b35b0-7355-4030-8d8a-0fc9e82b2d94        Veg\n",
       "501039be-cae2-4ac3-9f12-46ac44e07b3d    flowers\n",
       "Name: reproductiveCondition, dtype: object"
      ]
     },
     "execution_count": 13,
     "metadata": {},
     "output_type": "execute_result"
    }
   ],
   "source": [
    "# quick helper function will keep this code easier to read\n",
    "def expand_reproductiveCondition(indexData):\n",
    "    reproductiveCondition = indexData.get('dwc:reproductiveCondition', \"\")\n",
    "    return reproductiveCondition\n",
    "\n",
    "# apply the expansion function to the parent col (i.e., 'indexData')\n",
    "df['reproductiveCondition'] = df['indexData'].apply(expand_reproductiveCondition)\n",
    "# check out the results (could be fun)\n",
    "df['reproductiveCondition'].sample(4)"
   ]
  },
  {
   "cell_type": "markdown",
   "metadata": {},
   "source": [
    "#### Retrieve media from query reqsults\n",
    "\n",
    "Modified from: https://github.com/iDigBio/idigbio-python-client/blob/master/examples/fetch_media/fetch_media.py"
   ]
  },
  {
   "cell_type": "code",
   "execution_count": 14,
   "metadata": {},
   "outputs": [],
   "source": [
    "\n",
    "def get_media_with_naming (output_dir, media_url, uuid, SIZE):\n",
    "    \"\"\"\n",
    "Download a media file to a directory and name it based on the input parameters.\n",
    " 'output_dir' controls where the download is placed.\n",
    " 'media_url' is the url / link to the media that will be downloaded.\n",
    " 'uuid' is used to uniquely identify the output filename.\n",
    " 'SIZE' is the class of image derivative, useful in the output filename.\n",
    "\"\"\"\n",
    "    # Output filenames will be of the form: {mediarecord_uuid}_{SIZE}.jpg\n",
    "    local_filepath = os.path.join(output_dir,  uuid + '_' + SIZE + '.jpg')\n",
    "    try:\n",
    "        with requests.get(media_url, stream=True) as r:\n",
    "            r.raise_for_status()\n",
    "            with open(local_filepath, 'wb') as f:\n",
    "                for chunk in r.iter_content(chunk_size=1024):\n",
    "                    f.write(chunk)\n",
    "            # be sure file is done downloading before moving on\n",
    "            cur_fs = 0\n",
    "            while cur_fs != os.path.getsize(local_filepath):\n",
    "                time.sleep(0.2)\n",
    "                cur_fs = os.path.getsize(local_filepath)\n",
    "                time.sleep(0.5) # impose longer wait timers to avoid IP Bans\n",
    "    except (requests.exceptions.HTTPError, requests.exceptions.ConnectionError) as e:\n",
    "        print('*** HTTP ERROR: {0}'.format(e))\n",
    "        return False\n",
    "\n",
    "    # if a success is apparent impose a sleep timer to avoid an ip ban\n",
    "\n",
    "    return True\n",
    "\n",
    "def retrieve_media(mediarecords, output_directory='./output', SIZE='fullsize'):\n",
    "    \"\"\" when be called on the 'mediarecords' column, retrieves every media file \"\"\"\n",
    "    # SIZES = [\"thumbnail\", \"webview\", \"fullsize\"]\n",
    "\n",
    "    for media_uuid in mediarecords:\n",
    "        # construct media URL\n",
    "        media_url = 'https://api.idigbio.org/v2/media/' + media_uuid + '?size=' + SIZE\n",
    "        # The retrieval function returns bool based on success\n",
    "        # could modify this to store report somewhere... for now just print success / fail\n",
    "        if get_media_with_naming(output_directory, media_url, media_uuid, SIZE):\n",
    "            print (\"Downloaded: '{0}'\".format(media_url))\n",
    "        else:\n",
    "            print(\"Failed to retrieve: '{0}'\".format(media_url))\n",
    "            print(media_uuid)"
   ]
  },
  {
   "cell_type": "markdown",
   "metadata": {},
   "source": [
    "#### Extract the media from the identified records "
   ]
  },
  {
   "cell_type": "code",
   "execution_count": 15,
   "metadata": {},
   "outputs": [
    {
     "name": "stdout",
     "output_type": "stream",
     "text": [
      "Downloaded: 'https://api.idigbio.org/v2/media/5c7a95f9-0fa3-4ffd-8f7f-73fa58713b40?size=fullsize'\n",
      "Downloaded: 'https://api.idigbio.org/v2/media/6ba1e45c-3a38-4adc-ae4f-160be0ee47b5?size=fullsize'\n",
      "Downloaded: 'https://api.idigbio.org/v2/media/b0abd802-3452-499f-b553-fdfbd4fcd1f5?size=fullsize'\n",
      "Downloaded: 'https://api.idigbio.org/v2/media/c60bd571-5016-4dda-be84-712ffbb6e526?size=fullsize'\n",
      "Downloaded: 'https://api.idigbio.org/v2/media/4a224def-2f37-4954-be58-8045d27c4913?size=fullsize'\n",
      "Downloaded: 'https://api.idigbio.org/v2/media/352c9203-3a08-44c2-9a8b-c02e944e89c2?size=fullsize'\n",
      "Downloaded: 'https://api.idigbio.org/v2/media/0d1cc33a-4a7b-4135-a777-2993d629be45?size=fullsize'\n"
     ]
    },
    {
     "data": {
      "text/plain": [
       "uuid\n",
       "734b35b0-7355-4030-8d8a-0fc9e82b2d94    None\n",
       "b17ffd30-6207-4a13-9e96-b22fbf97bd51    None\n",
       "79f9b071-f2cc-4b59-b22c-99345ab2bf8c    None\n",
       "501039be-cae2-4ac3-9f12-46ac44e07b3d    None\n",
       "545f2097-915f-45c0-b2a6-f3d35ab05f7f    None\n",
       "54fb847b-3be3-497a-b523-739071113c2e    None\n",
       "8b807b8a-96ac-41fc-b4ac-be5380e79db1    None\n",
       "Name: mediarecords, dtype: object"
      ]
     },
     "execution_count": 15,
     "metadata": {},
     "output_type": "execute_result"
    }
   ],
   "source": [
    "df['mediarecords'].apply(retrieve_media)"
   ]
  },
  {
   "cell_type": "code",
   "execution_count": 16,
   "metadata": {},
   "outputs": [
    {
     "data": {
      "text/html": [
       "<div>\n",
       "<style scoped>\n",
       "    .dataframe tbody tr th:only-of-type {\n",
       "        vertical-align: middle;\n",
       "    }\n",
       "\n",
       "    .dataframe tbody tr th {\n",
       "        vertical-align: top;\n",
       "    }\n",
       "\n",
       "    .dataframe thead th {\n",
       "        text-align: right;\n",
       "    }\n",
       "</style>\n",
       "<table border=\"1\" class=\"dataframe\">\n",
       "  <thead>\n",
       "    <tr style=\"text-align: right;\">\n",
       "      <th></th>\n",
       "      <th>startdayofyear</th>\n",
       "      <th>continent</th>\n",
       "      <th>verbatimeventdate</th>\n",
       "      <th>country</th>\n",
       "      <th>collectioncode</th>\n",
       "      <th>dqs</th>\n",
       "      <th>countrycode</th>\n",
       "      <th>datecollected</th>\n",
       "      <th>flags</th>\n",
       "      <th>recordset</th>\n",
       "      <th>...</th>\n",
       "      <th>etag</th>\n",
       "      <th>institutioncode</th>\n",
       "      <th>family</th>\n",
       "      <th>collectionid</th>\n",
       "      <th>recordids</th>\n",
       "      <th>highertaxon</th>\n",
       "      <th>geopoint</th>\n",
       "      <th>coordinateuncertainty</th>\n",
       "      <th>county</th>\n",
       "      <th>reproductiveCondition</th>\n",
       "    </tr>\n",
       "    <tr>\n",
       "      <th>uuid</th>\n",
       "      <th></th>\n",
       "      <th></th>\n",
       "      <th></th>\n",
       "      <th></th>\n",
       "      <th></th>\n",
       "      <th></th>\n",
       "      <th></th>\n",
       "      <th></th>\n",
       "      <th></th>\n",
       "      <th></th>\n",
       "      <th></th>\n",
       "      <th></th>\n",
       "      <th></th>\n",
       "      <th></th>\n",
       "      <th></th>\n",
       "      <th></th>\n",
       "      <th></th>\n",
       "      <th></th>\n",
       "      <th></th>\n",
       "      <th></th>\n",
       "      <th></th>\n",
       "    </tr>\n",
       "  </thead>\n",
       "  <tbody>\n",
       "    <tr>\n",
       "      <th>501039be-cae2-4ac3-9f12-46ac44e07b3d</th>\n",
       "      <td>196</td>\n",
       "      <td>north america</td>\n",
       "      <td>NaN</td>\n",
       "      <td>united states</td>\n",
       "      <td>plants</td>\n",
       "      <td>0.188406</td>\n",
       "      <td>usa</td>\n",
       "      <td>1945-07-15T00:00:00+00:00</td>\n",
       "      <td>[geopoint_datum_missing, rev_geocode_eez, dwc_...</td>\n",
       "      <td>e2def7e2-1455-4856-9823-6d3738417d24</td>\n",
       "      <td>...</td>\n",
       "      <td>9e392dea834ca8008102cd9f05b09b080ff4aa1a</td>\n",
       "      <td>min</td>\n",
       "      <td>iridaceae</td>\n",
       "      <td>f292c83d-305c-4b22-97cc-cd9c72e2931e</td>\n",
       "      <td>[e2def7e2-1455-4856-9823-6d3738417d24\\93de8e88...</td>\n",
       "      <td>NaN</td>\n",
       "      <td>{'lon': -173.213793, 'lat': 52.884659}</td>\n",
       "      <td>NaN</td>\n",
       "      <td>NaN</td>\n",
       "      <td>flowers</td>\n",
       "    </tr>\n",
       "  </tbody>\n",
       "</table>\n",
       "<p>1 rows × 46 columns</p>\n",
       "</div>"
      ],
      "text/plain": [
       "                                      startdayofyear      continent  \\\n",
       "uuid                                                                  \n",
       "501039be-cae2-4ac3-9f12-46ac44e07b3d             196  north america   \n",
       "\n",
       "                                     verbatimeventdate        country  \\\n",
       "uuid                                                                    \n",
       "501039be-cae2-4ac3-9f12-46ac44e07b3d               NaN  united states   \n",
       "\n",
       "                                     collectioncode       dqs countrycode  \\\n",
       "uuid                                                                        \n",
       "501039be-cae2-4ac3-9f12-46ac44e07b3d         plants  0.188406         usa   \n",
       "\n",
       "                                                  datecollected  \\\n",
       "uuid                                                              \n",
       "501039be-cae2-4ac3-9f12-46ac44e07b3d  1945-07-15T00:00:00+00:00   \n",
       "\n",
       "                                                                                  flags  \\\n",
       "uuid                                                                                      \n",
       "501039be-cae2-4ac3-9f12-46ac44e07b3d  [geopoint_datum_missing, rev_geocode_eez, dwc_...   \n",
       "\n",
       "                                                                 recordset  \\\n",
       "uuid                                                                         \n",
       "501039be-cae2-4ac3-9f12-46ac44e07b3d  e2def7e2-1455-4856-9823-6d3738417d24   \n",
       "\n",
       "                                      ...  \\\n",
       "uuid                                  ...   \n",
       "501039be-cae2-4ac3-9f12-46ac44e07b3d  ...   \n",
       "\n",
       "                                                                          etag  \\\n",
       "uuid                                                                             \n",
       "501039be-cae2-4ac3-9f12-46ac44e07b3d  9e392dea834ca8008102cd9f05b09b080ff4aa1a   \n",
       "\n",
       "                                     institutioncode     family  \\\n",
       "uuid                                                              \n",
       "501039be-cae2-4ac3-9f12-46ac44e07b3d             min  iridaceae   \n",
       "\n",
       "                                                              collectionid  \\\n",
       "uuid                                                                         \n",
       "501039be-cae2-4ac3-9f12-46ac44e07b3d  f292c83d-305c-4b22-97cc-cd9c72e2931e   \n",
       "\n",
       "                                                                              recordids  \\\n",
       "uuid                                                                                      \n",
       "501039be-cae2-4ac3-9f12-46ac44e07b3d  [e2def7e2-1455-4856-9823-6d3738417d24\\93de8e88...   \n",
       "\n",
       "                                     highertaxon  \\\n",
       "uuid                                               \n",
       "501039be-cae2-4ac3-9f12-46ac44e07b3d         NaN   \n",
       "\n",
       "                                                                    geopoint  \\\n",
       "uuid                                                                           \n",
       "501039be-cae2-4ac3-9f12-46ac44e07b3d  {'lon': -173.213793, 'lat': 52.884659}   \n",
       "\n",
       "                                     coordinateuncertainty county  \\\n",
       "uuid                                                                \n",
       "501039be-cae2-4ac3-9f12-46ac44e07b3d                   NaN    NaN   \n",
       "\n",
       "                                     reproductiveCondition  \n",
       "uuid                                                        \n",
       "501039be-cae2-4ac3-9f12-46ac44e07b3d               flowers  \n",
       "\n",
       "[1 rows x 46 columns]"
      ]
     },
     "execution_count": 16,
     "metadata": {},
     "output_type": "execute_result"
    }
   ],
   "source": [
    "df[3:4]"
   ]
  },
  {
   "cell_type": "markdown",
   "metadata": {},
   "source": [
    "#### Store record date\n",
    "Just in case it is useful later"
   ]
  },
  {
   "cell_type": "code",
   "execution_count": 22,
   "metadata": {},
   "outputs": [],
   "source": [
    "df.to_csv('output.csv')"
   ]
  },
  {
   "cell_type": "markdown",
   "metadata": {},
   "source": [
    "#### Cleanup the output directory\n",
    "__Note:__ the output_directory parameter should align with the output_directory used here\n",
    "\n",
    "__Note:__ this does not remove records from the record data if all the associated images are removed."
   ]
  },
  {
   "cell_type": "code",
   "execution_count": 17,
   "metadata": {},
   "outputs": [
    {
     "name": "stdout",
     "output_type": "stream",
     "text": [
      "['./output/4a224def-2f37-4954-be58-8045d27c4913_fullsize.jpg', './output/b0abd802-3452-499f-b553-fdfbd4fcd1f5_fullsize.jpg', './output/6ba1e45c-3a38-4adc-ae4f-160be0ee47b5_fullsize.jpg', './output/431f2252-b713-4a6b-89c3-a16456ccded8_fullsize.jpg', './output/0d1cc33a-4a7b-4135-a777-2993d629be45_fullsize.jpg', './output/c60bd571-5016-4dda-be84-712ffbb6e526_fullsize.jpg', './output/5c7a95f9-0fa3-4ffd-8f7f-73fa58713b40_fullsize.jpg', './output/352c9203-3a08-44c2-9a8b-c02e944e89c2_fullsize.jpg', './output/f03e708a-0485-4eb7-9e67-4bc7fca62392_fullsize.jpg']\n"
     ]
    }
   ],
   "source": [
    "# modify to alter the minimum acceptable px size of image's largest dimension \n",
    "# for reference, \"full size\" is typically ~5,760\n",
    "image_height_thres = 3000\n",
    "\n",
    "output_directory = './output'\n",
    "output_files = glob(f\"{output_directory}/*\")\n",
    "\n",
    "def remove_file(fp):\n",
    "    \"\"\"given a file path, attempts to remove the file\"\"\"\n",
    "    if os.path.isfile(fp):\n",
    "        os.remove(fp)\n",
    "\n",
    "# iterate over all identified files in the glob\n",
    "# remove those not meeting herb image linke conditions\n",
    "for fn in output_files:\n",
    "    try:\n",
    "        im = Image.open(fn)\n",
    "        w, h = im.size\n",
    "        # assign height to the larger variable (robust to rotated images)\n",
    "        if w > h:\n",
    "            w, h = h, w\n",
    "        # establish 2 disqualifying conditions\n",
    "        # make sure the height meets a pixel threshold\n",
    "        height_condition = h < image_height_thres\n",
    "        # verify the aspect ratio is in the ball park of expected values\n",
    "        aspect_condition = not( 1.2 < (h/w) < 1.95)\n",
    "        # if the image in question meets either of those conditions, remove it from the drive.\n",
    "        if height_condition or aspect_condition:\n",
    "            remove_file(fn)\n",
    "    # This exception means the file is probably corrupted or incomplete\n",
    "    except UnidentifiedImageError:\n",
    "        remove_file(fn)"
   ]
  },
  {
   "cell_type": "code",
   "execution_count": null,
   "metadata": {},
   "outputs": [],
   "source": []
  }
 ],
 "metadata": {
  "kernelspec": {
   "display_name": "Python 3",
   "language": "python",
   "name": "python3"
  },
  "language_info": {
   "codemirror_mode": {
    "name": "ipython",
    "version": 3
   },
   "file_extension": ".py",
   "mimetype": "text/x-python",
   "name": "python",
   "nbconvert_exporter": "python",
   "pygments_lexer": "ipython3",
   "version": "3.8.5"
  }
 },
 "nbformat": 4,
 "nbformat_minor": 4
}
